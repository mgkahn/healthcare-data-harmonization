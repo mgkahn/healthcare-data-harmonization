{
 "cells": [
  {
   "cell_type": "code",
   "execution_count": 1,
   "metadata": {},
   "outputs": [],
   "source": [
    "%load_ext wstl"
   ]
  },
  {
   "cell_type": "code",
   "execution_count": 9,
   "metadata": {},
   "outputs": [
    {
     "data": {
      "text/markdown": [
       "\n",
       "## Load JSON data directly from Google Cloud Storage\n",
       "\n",
       "The following line magic command loads JSON data from a GCS bucket and \n",
       "allows the user to either save the results to a python variable, persist them to disk, or print the results.\n"
      ],
      "text/plain": [
       "<IPython.core.display.Markdown object>"
      ]
     },
     "metadata": {},
     "output_type": "display_data"
    }
   ],
   "source": [
    "%%markdown\n",
    "\n",
    "## Load JSON data directly from Google Cloud Storage\n",
    "\n",
    "The following line magic command loads JSON data from a GCS bucket and \n",
    "allows the user to either save the results to a python variable, persist them to disk, or print the results."
   ]
  },
  {
   "cell_type": "code",
   "execution_count": 10,
   "metadata": {},
   "outputs": [
    {
     "data": {
      "text/plain": [
       "\u001b[0;31mDocstring:\u001b[0m\n",
       "::\n",
       "\n",
       "  %load_hl7v2_gcs --bucket_name BUCKET_NAME --source_blob_name\n",
       "                      SOURCE_BLOB_NAME [--dest_file_name DEST_FILE_NAME]\n",
       "\n",
       "Load and return parsed HL7v2 massage from the blob in a GCS bucket specified.\n",
       "\n",
       "optional arguments:\n",
       "  --bucket_name BUCKET_NAME\n",
       "                        The name of the GCS bucket to load data from.\n",
       "  --source_blob_name SOURCE_BLOB_NAME\n",
       "                        The name of the blob to load.\n",
       "  --dest_file_name DEST_FILE_NAME\n",
       "                        The destination file path to store the loaded data. If\n",
       "                        not provided, the result will be directly returned to\n",
       "                        the IPython kernel.\n",
       "\u001b[0;31mFile:\u001b[0m      /opt/conda/lib/python3.7/site-packages/wstl/magics/wstl.py\n"
      ]
     },
     "metadata": {},
     "output_type": "display_data"
    }
   ],
   "source": [
    "%load_hl7v2_gcs?"
   ]
  },
  {
   "cell_type": "code",
   "execution_count": 11,
   "metadata": {},
   "outputs": [
    {
     "data": {
      "application/json": {
       "ADT_A01": {
        "MSH": {
         "0": "MSH",
         "1": "|",
         "10": "7",
         "11": {
          "1": "T",
          "2": "11.2-processing"
         },
         "12": {
          "1": "2.3"
         },
         "13": null,
         "14": null,
         "15": "AL",
         "16": null,
         "17": "44",
         "18": [
          "ASCII"
         ],
         "19": {
          "1": "ENG"
         },
         "2": "^~\\&",
         "20": null,
         "21": null,
         "22": {
          "1": "Resposible - YIEWSLEY FAMILY PRACTICE",
          "2": null,
          "3": "6010",
          "4": null,
          "5": null,
          "6": null,
          "7": "RCode"
         },
         "23": {
          "1": "Reciever - YIEWSLEY FAMILY PRACTICE",
          "2": null,
          "3": "6010",
          "4": null,
          "5": null,
          "6": null,
          "7": "DCode"
         },
         "3": {
          "1": "CERNER",
          "2": "3.2-two",
          "3": "URI"
         },
         "4": {
          "1": "RAL",
          "2": "4.2-two",
          "3": "UUID"
         },
         "5": {
          "1": "STREAMS"
         },
         "6": {
          "1": "RAL",
          "2": "6.2-two",
          "3": "ISO"
         },
         "7": "20190309130156",
         "8": "8-Security",
         "9": {
          "1": "ADT",
          "2": "A01",
          "3": "9.3-DEF"
         }
        }
       }
      },
      "text/plain": [
       "<IPython.core.display.JSON object>"
      ]
     },
     "execution_count": 11,
     "metadata": {
      "application/json": {
       "expanded": false,
       "root": "root"
      }
     },
     "output_type": "execute_result"
    }
   ],
   "source": [
    "%load_hl7v2_gcs --bucket_name data-harmonization-sample-data --source_blob_name hl7v2_fhir_stu3/adt_a01_msh.hl7.fhir.input.json"
   ]
  },
  {
   "cell_type": "code",
   "execution_count": 12,
   "metadata": {},
   "outputs": [
    {
     "data": {
      "text/markdown": [
       "\n",
       "## Evaluate whistle mapping language\n",
       "* allows the user to execute whistle mapping language scripts and to immediately see the result of executing the script\n",
       "* result can be displayed in output or stored into a python variable.\n",
       "* inputs and library configs can be read from local filesystem or Google Cloud Storage\n",
       "* outputs a FHIR transaction bundle\n"
      ],
      "text/plain": [
       "<IPython.core.display.Markdown object>"
      ]
     },
     "metadata": {},
     "output_type": "display_data"
    }
   ],
   "source": [
    "%%markdown\n",
    "\n",
    "## Evaluate whistle mapping language\n",
    "* allows the user to execute whistle mapping language scripts and to immediately see the result of executing the script\n",
    "* result can be displayed in output or stored into a python variable.\n",
    "* inputs and library configs can be read from local filesystem or Google Cloud Storage\n",
    "* outputs a FHIR transaction bundle"
   ]
  },
  {
   "cell_type": "code",
   "execution_count": 13,
   "metadata": {},
   "outputs": [
    {
     "data": {
      "text/plain": [
       "\u001b[0;31mDocstring:\u001b[0m\n",
       "::\n",
       "\n",
       "  %wstl [--input INPUT] [--library_config LIBRARY_CONFIG]\n",
       "            [--code_config CODE_CONFIG] [--unit_config UNIT_CONFIG]\n",
       "            [--output OUTPUT]\n",
       "\n",
       "Cell magic to evaluate whistle mapping language from iPython kernel.\n",
       "\n",
       "optional arguments:\n",
       "  --input INPUT         The input. Supports the following prefix notations:\n",
       "                        py://<name_of_python_variable>\n",
       "                        json://<inline_json_object_or_array> : python inline\n",
       "                        dict and list expressions are supported. e.g.\n",
       "                        json://{\"field\":\"value\"} or\n",
       "                        json://[{\"first\":\"value\"},{\"second\":\"value\"}]\n",
       "                        file://<path_to_local_file_system> , supports glob\n",
       "                        wildcard expressions and will only load .json or\n",
       "                        .ndjson file extensions. Each json object/list defined\n",
       "                        within an ndjson will be a separate input to the\n",
       "                        mapping.\n",
       "  --library_config LIBRARY_CONFIG\n",
       "                        Path to the directory where the library mapping files\n",
       "                        are located.\n",
       "  --code_config CODE_CONFIG\n",
       "                        Path to the directory of FHIR ConceptMaps used for\n",
       "                        code harmonization.\n",
       "  --unit_config UNIT_CONFIG\n",
       "                        Path to a unit harmonization file (textproto).\n",
       "  --output OUTPUT       Name of python variable to store result. e.g. --output\n",
       "                        temp_var\n",
       "\u001b[0;31mFile:\u001b[0m      /opt/conda/lib/python3.7/site-packages/wstl/magics/wstl.py\n"
      ]
     },
     "metadata": {},
     "output_type": "display_data"
    }
   ],
   "source": [
    "%%wstl?"
   ]
  },
  {
   "cell_type": "code",
   "execution_count": 14,
   "metadata": {},
   "outputs": [
    {
     "data": {
      "text/markdown": [
       "\n",
       "### Reads from the file system mounted into the docker container.\n"
      ],
      "text/plain": [
       "<IPython.core.display.Markdown object>"
      ]
     },
     "metadata": {},
     "output_type": "display_data"
    }
   ],
   "source": [
    "%%markdown\n",
    "\n",
    "### Reads from the file system mounted into the docker container."
   ]
  },
  {
   "cell_type": "code",
   "execution_count": 2,
   "metadata": {},
   "outputs": [
    {
     "data": {
      "application/json": {
       "Resources": [
        {
         "address": [
          {
           "country": "44"
          }
         ],
         "id": "a422c5af-086a-4fa4-912b-71e54f072194",
         "identifier": [
          {
           "value": "RAL"
          },
          {
           "system": "urn:ietf:rfc:3986",
           "type": {
            "coding": [
             {
              "code": "UUID",
              "system": "http://terminology.hl7.org/CodeSystem/v2-0301"
             }
            ]
           },
           "value": "4.2-two"
          }
         ],
         "resourceType": "Organization"
        },
        {
         "id": "56af9174-acc1-495d-923f-61a2540e7c6b",
         "identifier": [
          {
           "type": {
            "coding": [
             {
              "code": "DCode",
              "system": "http://terminology.hl7.org/CodeSystem/v2-0203"
             }
            ]
           },
           "value": "6010"
          }
         ],
         "name": "Reciever - YIEWSLEY FAMILY PRACTICE",
         "resourceType": "Organization"
        },
        {
         "id": "6eec59b9-b057-424c-9cd5-1f5934150e89",
         "identifier": [
          {
           "type": {
            "coding": [
             {
              "code": "RCode",
              "system": "http://terminology.hl7.org/CodeSystem/v2-0203"
             }
            ]
           },
           "value": "6010"
          }
         ],
         "name": "Resposible - YIEWSLEY FAMILY PRACTICE",
         "resourceType": "Organization"
        },
        {
         "destination": [
          {
           "endpoint": "RAL",
           "name": "STREAMS"
          }
         ],
         "event": {
          "code": "A01",
          "system": "http://terminology.hl7.org/CodeSystem/v2-0003"
         },
         "id": "d136d09e-28df-46c3-9894-9ec9bbc40dca",
         "language": "ENG",
         "meta": {
          "security": [
           {
            "code": "8-Security"
           }
          ],
          "tag": [
           {
            "code": "T",
            "system": "http://terminology.hl7.org/CodeSystem/v2-0103"
           },
           {
            "code": "11.2-processing",
            "system": "http://terminology.hl7.org/CodeSystem/v2-0207"
           }
          ]
         },
         "receiver": {
          "reference": "Organization/56af9174-acc1-495d-923f-61a2540e7c6b"
         },
         "resourceType": "MessageHeader",
         "responsible": {
          "reference": "Organization/6eec59b9-b057-424c-9cd5-1f5934150e89"
         },
         "sender": {
          "reference": "Organization/a422c5af-086a-4fa4-912b-71e54f072194"
         },
         "source": {
          "endpoint": "3.2-two",
          "name": "CERNER"
         },
         "timestamp": "2019-03-09T13:01:56.9339Z"
        },
        {
         "id": "9946dd1c-839c-41f5-89d0-2e755344d9e0",
         "identifier": [
          {
           "value": "CERNER"
          }
         ],
         "resourceType": "Device"
        },
        {
         "agent": [
          {
           "whoReference": {
            "reference": "Device/9946dd1c-839c-41f5-89d0-2e755344d9e0"
           }
          }
         ],
         "id": "1d5fe6bc-ea67-4240-8bb2-e8bc858629a5",
         "recorded": "2019-03-09T13:01:56.9339Z",
         "resourceType": "Provenance",
         "target": [
          {
           "reference": "MessageHeader/d136d09e-28df-46c3-9894-9ec9bbc40dca"
          }
         ]
        },
        {
         "id": "19cf3169-c383-45f5-b1b3-eb06179cbae1",
         "identifier": {
          "value": "7"
         },
         "resourceType": "Bundle",
         "type": "message"
        }
       ]
      },
      "text/plain": [
       "<IPython.core.display.JSON object>"
      ]
     },
     "execution_count": 2,
     "metadata": {
      "application/json": {
       "expanded": false,
       "root": "root"
      }
     },
     "output_type": "execute_result"
    }
   ],
   "source": [
    "%%wstl --output resources --input file://~/mapping_configs/hl7v2_fhir_stu3/adt_a01_msh.hl7.fhir.input.json --library_config file://~/mapping_configs/hl7v2_fhir_stu3/projector_library/*.wstl\n",
    "\n",
    "$this : Process_ADT_A01($root.ADT_A01);\n",
    "\n",
    "// Description: Define HL7v2 (version 2.9) to FHIR STU3 transformation\n",
    "//\n",
    "// Argument(s):\n",
    "//   ADT_A01 HL7v2 Message Type (version 2.9)\n",
    "//   ADT_A01 Segments covered in this mapping configuration are: MSH\n",
    "//\n",
    "// Output(s):\n",
    "//   FHIR STU3 Resources : http://www.hl7.org/fhir/stu3/resourcelist.html\n",
    "// List of Generated FHIR Resources:\n",
    "//   Bundle: https://www.hl7.org/fhir/stu3/bundle.html\n",
    "\n",
    "def Process_ADT_A01(ADT_A01) {\n",
    "  var MH : MSH_MessageHeader(ADT_A01.MSH);\n",
    "  out Resources : MH;\n",
    "  out Resources : HD_Provenance(ADT_A01.MSH.3, MH);\n",
    "  out Resources : MSH_Bundle(ADT_A01.MSH.10);\n",
    "}\n",
    "\n",
    "// post Output_Transaction\n"
   ]
  },
  {
   "cell_type": "code",
   "execution_count": 16,
   "metadata": {},
   "outputs": [
    {
     "data": {
      "text/markdown": [
       "\n",
       "### Reads from Google Cloud Storage\n"
      ],
      "text/plain": [
       "<IPython.core.display.Markdown object>"
      ]
     },
     "metadata": {},
     "output_type": "display_data"
    }
   ],
   "source": [
    "%%markdown\n",
    "\n",
    "### Reads from Google Cloud Storage"
   ]
  },
  {
   "cell_type": "code",
   "execution_count": 3,
   "metadata": {},
   "outputs": [
    {
     "data": {
      "application/json": {
       "Resources": [
        {
         "address": [
          {
           "country": "44"
          }
         ],
         "id": "e4ff1da8-d75d-4be2-9c72-4b523785a9b9",
         "identifier": [
          {
           "value": "RAL"
          },
          {
           "system": "urn:ietf:rfc:3986",
           "type": {
            "coding": [
             {
              "code": "UUID",
              "system": "http://terminology.hl7.org/CodeSystem/v2-0301"
             }
            ]
           },
           "value": "4.2-two"
          }
         ],
         "resourceType": "Organization"
        },
        {
         "id": "ca1ae635-4b25-479b-8821-aeb15e2f69cd",
         "identifier": [
          {
           "type": {
            "coding": [
             {
              "code": "DCode",
              "system": "http://terminology.hl7.org/CodeSystem/v2-0203"
             }
            ]
           },
           "value": "6010"
          }
         ],
         "name": "Reciever - YIEWSLEY FAMILY PRACTICE",
         "resourceType": "Organization"
        },
        {
         "id": "21ba198c-cc6e-433e-be63-128f219679fe",
         "identifier": [
          {
           "type": {
            "coding": [
             {
              "code": "RCode",
              "system": "http://terminology.hl7.org/CodeSystem/v2-0203"
             }
            ]
           },
           "value": "6010"
          }
         ],
         "name": "Resposible - YIEWSLEY FAMILY PRACTICE",
         "resourceType": "Organization"
        },
        {
         "destination": [
          {
           "endpoint": "RAL",
           "name": "STREAMS"
          }
         ],
         "event": {
          "code": "A01",
          "system": "http://terminology.hl7.org/CodeSystem/v2-0003"
         },
         "id": "96b0a652-0daa-48d6-9e2f-521c7f010fb7",
         "language": "ENG",
         "meta": {
          "security": [
           {
            "code": "8-Security"
           }
          ],
          "tag": [
           {
            "code": "T",
            "system": "http://terminology.hl7.org/CodeSystem/v2-0103"
           },
           {
            "code": "11.2-processing",
            "system": "http://terminology.hl7.org/CodeSystem/v2-0207"
           }
          ]
         },
         "receiver": {
          "reference": "Organization/ca1ae635-4b25-479b-8821-aeb15e2f69cd"
         },
         "resourceType": "MessageHeader",
         "responsible": {
          "reference": "Organization/21ba198c-cc6e-433e-be63-128f219679fe"
         },
         "sender": {
          "reference": "Organization/e4ff1da8-d75d-4be2-9c72-4b523785a9b9"
         },
         "source": {
          "endpoint": "3.2-two",
          "name": "CERNER"
         },
         "timestamp": "2019-03-09T13:01:56.9339Z"
        },
        {
         "id": "9891aeef-fe51-4b6b-a9bd-409b481c5bda",
         "identifier": [
          {
           "value": "CERNER"
          }
         ],
         "resourceType": "Device"
        },
        {
         "agent": [
          {
           "whoReference": {
            "reference": "Device/9891aeef-fe51-4b6b-a9bd-409b481c5bda"
           }
          }
         ],
         "id": "5b4f8f56-64a8-4319-92e3-454539bccb4a",
         "recorded": "2019-03-09T13:01:56.9339Z",
         "resourceType": "Provenance",
         "target": [
          {
           "reference": "MessageHeader/96b0a652-0daa-48d6-9e2f-521c7f010fb7"
          }
         ]
        },
        {
         "id": "7abf0557-e956-4382-ba00-975fe7d553af",
         "identifier": {
          "value": "7"
         },
         "resourceType": "Bundle",
         "type": "message"
        }
       ]
      },
      "text/plain": [
       "<IPython.core.display.JSON object>"
      ]
     },
     "execution_count": 3,
     "metadata": {
      "application/json": {
       "expanded": false,
       "root": "root"
      }
     },
     "output_type": "execute_result"
    }
   ],
   "source": [
    "%%wstl --output resources --input gs://data-harmonization-sample-data/hl7v2_fhir_stu3/adt_a01_msh.hl7.fhir.input.json --library_config gs://data-harmonization-sample-data/hl7v2_fhir_stu3/projector_library/*.wstl\n",
    "\n",
    "$this : Process_ADT_A01($root.ADT_A01);\n",
    "    \n",
    "// Description: Define HL7v2 (version 2.9) to FHIR STU3 transformation\n",
    "//\n",
    "// Argument(s):\n",
    "//   ADT_A01 HL7v2 Message Type (version 2.9)\n",
    "//   ADT_A01 Segments covered in this mapping configuration are: MSH\n",
    "//\n",
    "// Output(s):\n",
    "//   FHIR STU3 Resources : http://www.hl7.org/fhir/stu3/resourcelist.html\n",
    "// List of Generated FHIR Resources:\n",
    "//   Bundle: https://www.hl7.org/fhir/stu3/bundle.html\n",
    "\n",
    "def Process_ADT_A01(ADT_A01) {\n",
    "  var MH : MSH_MessageHeader(ADT_A01.MSH);\n",
    "  out Resources : MH;\n",
    "  out Resources : HD_Provenance(ADT_A01.MSH.3, MH);\n",
    "  out Resources : MSH_Bundle(ADT_A01.MSH.10);\n",
    "}"
   ]
  },
  {
   "cell_type": "code",
   "execution_count": 18,
   "metadata": {},
   "outputs": [
    {
     "data": {
      "text/markdown": [
       "\n",
       "### Mappings for ADT_A01 PID and PD1 segments\n"
      ],
      "text/plain": [
       "<IPython.core.display.Markdown object>"
      ]
     },
     "metadata": {},
     "output_type": "display_data"
    }
   ],
   "source": [
    "%%markdown\n",
    "\n",
    "### Mappings for ADT_A01 PID and PD1 segments"
   ]
  },
  {
   "cell_type": "code",
   "execution_count": 4,
   "metadata": {},
   "outputs": [
    {
     "data": {
      "application/json": {
       "Resources": [
        {
         "id": "ba78d9a6-73e2-4a29-a539-ce180700079d",
         "identifier": [
          {
           "type": {
            "coding": [
             {
              "code": "CLN",
              "system": "http://terminology.hl7.org/CodeSystem/v2-0203"
             }
            ]
           },
           "value": "6020"
          }
         ],
         "name": "YIEWSLEY FAMILY PRACTICE",
         "resourceType": "Organization"
        },
        {
         "id": "a3054412-99b9-4321-be6e-527b24b2761e",
         "identifier": [
          {
           "type": {
            "coding": [
             {
              "code": "CC"
             }
            ]
           },
           "value": "C184726198"
          }
         ],
         "name": [
          {
           "family": "Connell",
           "given": [
            "Alistair",
            "Alex"
           ],
           "period": {
            "end": "2018-07-25T14:01:56+07:00",
            "start": "2018-07-25T14:01:56+07:00"
           },
           "prefix": [
            "Dr"
           ],
           "suffix": [
            "Sr",
            "MD",
            "MSc."
           ],
           "use": "official"
          }
         ],
         "resourceType": "Practitioner"
        },
        {
         "active": true,
         "address": [
          {
           "city": "Croydon",
           "country": "GBR",
           "line": [
            "25 Dahlia House",
            "Plough Avenue",
            "Some Guy"
           ],
           "period": {
            "end": "2018-07-25T14:01:56+07:00",
            "start": "2018-07-25T14:01:56+07:00"
           },
           "postalCode": "SV20 3BC",
           "state": "N/A"
          }
         ],
         "birthDate": "1994-06-15",
         "deceasedDateTime": "2018-07-25T14:01:56+07:00",
         "gender": "unknown",
         "generalPractitioner": [
          {
           "reference": "Organization/ba78d9a6-73e2-4a29-a539-ce180700079d"
          },
          {
           "reference": "Practitioner/a3054412-99b9-4321-be6e-527b24b2761e"
          }
         ],
         "id": "ff8d6232-4380-4795-aa95-21cd46d18fd4",
         "identifier": [
          {
           "type": {
            "coding": [
             {
              "code": "MRN"
             }
            ]
           },
           "value": "1419055458"
          },
          {
           "type": {
            "coding": [
             {
              "code": "MRN"
             }
            ]
           },
           "value": "1419055458"
          },
          {
           "type": {
            "coding": [
             {
              "code": "NHSNMBR"
             }
            ]
           },
           "value": "3870146052"
          },
          {
           "type": {
            "coding": [
             {
              "code": "MRN4"
             }
            ]
           },
           "value": "1419055459"
          },
          {
           "type": {
            "coding": [
             {
              "code": "SB"
             }
            ]
           },
           "value": "SSN-48383"
          },
          {
           "type": {
            "coding": [
             {
              "code": "DL"
             }
            ]
           },
           "value": "43211234"
          }
         ],
         "maritalStatus": {
          "coding": [
           {
            "code": "MARRIED"
           }
          ]
         },
         "meta": {
          "lastUpdated": "2018-07-25T14:01:56+07:00"
         },
         "multipleBirthInteger": 2,
         "name": [
          {
           "family": "Doe",
           "given": [
            "Jane",
            "Janny"
           ],
           "period": {
            "end": "2018-07-25T14:01:56+07:00",
            "start": "2018-07-25T14:01:56+07:00"
           },
           "prefix": [
            "Miss"
           ],
           "suffix": [
            "Jr",
            "PhD",
            "Eng."
           ],
           "use": "anonymous"
          },
          {
           "family": "Al-Doe",
           "given": [
            "Al-Jane",
            "Al-Janny"
           ],
           "period": {
            "end": "2018-07-25T14:01:56+07:00",
            "start": "2018-07-25T14:01:56+07:00"
           },
           "prefix": [
            "Al-Miss"
           ],
           "suffix": [
            "Al-Jr",
            "Al-PhD",
            "Al-Eng."
           ],
           "use": "anonymous"
          }
         ],
         "resourceType": "Patient",
         "telecom": [
          {
           "use": "home",
           "value": "020 0921 5742"
          },
          {
           "use": "work",
           "value": "020 0921 5748"
          },
          {
           "use": "home",
           "value": "020 0921 5700"
          }
         ]
        },
        {
         "id": "56b184ba-7d13-4a8c-bf60-be5bfb36c6fe",
         "identifier": [
          {
           "value": "1419055678"
          }
         ],
         "resourceType": "Account",
         "subject": {
          "reference": "Patient/ff8d6232-4380-4795-aa95-21cd46d18fd4"
         }
        }
       ]
      },
      "text/plain": [
       "<IPython.core.display.JSON object>"
      ]
     },
     "execution_count": 4,
     "metadata": {
      "application/json": {
       "expanded": false,
       "root": "root"
      }
     },
     "output_type": "execute_result"
    }
   ],
   "source": [
    "%%wstl --output resources --input file://~/mapping_configs/hl7v2_fhir_stu3/adt_a01_pid_pd1.hl7.fhir.input.json --library_config file://~/mapping_configs/hl7v2_fhir_stu3/projector_library/*.wstl --code_config file://~/mapping_configs/hl7v2_fhir_stu3/code_harmonization/*.json\n",
    "\n",
    "$this : Process_ADT_A01($root.ADT_A01);\n",
    "\n",
    "// Description: Define HL7v2 (version 2.9) to FHIR STU3 transformation\n",
    "//\n",
    "// Argument(s):\n",
    "//   ADT_A01 HL7v2 Message Type (version 2.9)\n",
    "//   ADT_A01 Segments covered in this mapping configuration are: PID, PD1,\n",
    "//\n",
    "// Output(s):\n",
    "//   FHIR STU3 Resources : http://www.hl7.org/fhir/stu3/resourcelist.html\n",
    "// List of Generated FHIR Resources:\n",
    "//   Account: https://www.hl7.org/fhir/stu3/account.html\n",
    "//   Organization: https://www.hl7.org/fhir/stu3/organization.html\n",
    "//   Patient: https://www.hl7.org/fhir/stu3/patient.html\n",
    "//   Practitioner: https://www.hl7.org/fhir/stu3/practitioner.html\n",
    "//\n",
    "def Process_ADT_A01(ADT_A01) {\n",
    "  var Patient : PID_PD1_Patient(ADT_A01.PID, ADT_A01.PD1);\n",
    "  out Resources : Patient;\n",
    "  out Resources : PID_Account(ADT_A01.PID.18, Patient);\n",
    "}"
   ]
  },
  {
   "cell_type": "code",
   "execution_count": 20,
   "metadata": {},
   "outputs": [
    {
     "data": {
      "text/markdown": [
       "\n",
       "## Load Data from HL7v2Store\n",
       "The following line magic command allows you to load data directly from a HL7v2Store and store the results either in a python variable or persist them to disk. \n",
       "You will manually need to do the following:\n",
       "    \n",
       "* Create an [HL7v2 store](https://cloud.google.com/healthcare/docs/how-tos/hl7v2#creating_an_hl7v2_store) on Google Cloud with \n",
       "[schematize parsing](https://cloud.google.com/healthcare/docs/reference/rest/v1beta1/projects.locations.datasets.hl7V2Stores#schematizedparsingtype) enabled. \n",
       "For example, the \"schematizedParsingType\" attribute set to \"SOFT_FAIL\" and the \"ignoreMinOccurs\" attribute set to true.\n",
       "The schematized parsing options enable the store to generated a structured JSON representatio of HL7v2 messages similar to the the example representations\n",
       "above. \n",
       "* [Add HL7v2 messages](https://cloud.google.com/healthcare/docs/how-tos/hl7v2-messages) to the store.\n",
       "* Update the magic command in the cell below with the appropiate store details.\n"
      ],
      "text/plain": [
       "<IPython.core.display.Markdown object>"
      ]
     },
     "metadata": {},
     "output_type": "display_data"
    }
   ],
   "source": [
    "%%markdown\n",
    "\n",
    "## Load Data from HL7v2Store\n",
    "The following line magic command allows you to load data directly from a HL7v2Store and store the results either in a python variable or persist them to disk. \n",
    "You will manually need to do the following:\n",
    "    \n",
    "* Create an [HL7v2 store](https://cloud.google.com/healthcare/docs/how-tos/hl7v2#creating_an_hl7v2_store) on Google Cloud with \n",
    "[schematize parsing](https://cloud.google.com/healthcare/docs/reference/rest/v1beta1/projects.locations.datasets.hl7V2Stores#schematizedparsingtype) enabled. \n",
    "For example, the \"schematizedParsingType\" attribute set to \"SOFT_FAIL\" and the \"ignoreMinOccurs\" attribute set to true.\n",
    "The schematized parsing options enable the store to generated a structured JSON representatio of HL7v2 messages similar to the the example representations\n",
    "above. \n",
    "* [Add HL7v2 messages](https://cloud.google.com/healthcare/docs/how-tos/hl7v2-messages) to the store.\n",
    "* Update the magic command in the cell below with the appropiate store details."
   ]
  },
  {
   "cell_type": "code",
   "execution_count": 21,
   "metadata": {},
   "outputs": [
    {
     "data": {
      "text/plain": [
       "\u001b[0;31mDocstring:\u001b[0m\n",
       "::\n",
       "\n",
       "  %load_hl7v2_datastore --project_id PROJECT_ID --region REGION\n",
       "                            --dataset_id DATASET_ID --hl7v2_store_id\n",
       "                            HL7V2_STORE_ID [--api_version {v1,v1beta1}]\n",
       "                            [--filter FILTER]\n",
       "                            [--dest_file_name DEST_FILE_NAME]\n",
       "\n",
       "Load parsed HL7v2 massage from the HL7v2 Store specified.\n",
       "\n",
       "optional arguments:\n",
       "  --project_id PROJECT_ID\n",
       "                        ID of the GCP project that the HL7v2 Store belongs to.\n",
       "  --region REGION       Region of the HL7v2 Store.\n",
       "  --dataset_id DATASET_ID\n",
       "                        ID of the dataset that the HL7v2 store belongs to.\n",
       "  --hl7v2_store_id HL7V2_STORE_ID\n",
       "                        ID of the HL7v2 store to load data from.\n",
       "  --api_version <{v1,v1beta1}>\n",
       "                        The version of healthcare api to call. Default to v1.\n",
       "  --filter FILTER       filter: string, Restricts messages returned to those\n",
       "                        matching a filter. Syntax: https://cloud.google.com/ap\n",
       "                        pengine/docs/standard/python/search/query_strings\n",
       "                        Fields/functions available for filtering are: *\n",
       "                        `message_type`, from the MSH-9.1 field. For example,\n",
       "                        `NOT message_type = \"ADT\"`. * `send_date` or\n",
       "                        `sendDate`, the YYYY-MM-DD date the message was sent\n",
       "                        in the dataset's time_zone, from the MSH-7 segment.\n",
       "                        For example, `send_date < \"2017-01-02\"`. *\n",
       "                        `send_time`, the timestamp when the message was sent,\n",
       "                        using the RFC3339 time format for comparisons, from\n",
       "                        the MSH-7 segment. For example, `send_time <\n",
       "                        \"2017-01-02T00:00:00-05:00\"`. * `send_facility`, the\n",
       "                        care center that the message came from, from the MSH-4\n",
       "                        segment. For example, `send_facility = \"ABC\"`. *\n",
       "                        `PatientId(value, type)`, which matches if the message\n",
       "                        lists a patient having an ID of the given value and\n",
       "                        type in the PID-2, PID-3, or PID-4 segments. For\n",
       "                        example, `PatientId(\"123456\", \"MRN\")`. * `labels.x`, a\n",
       "                        string value of the label with key `x` as set using\n",
       "                        the Message.labels map. For example,\n",
       "                        `labels.\"priority\"=\"high\"`. The operator `:*` can be\n",
       "                        used to assert the existence of a label. For example,\n",
       "                        `labels.\"priority\":*`.\n",
       "  --dest_file_name DEST_FILE_NAME\n",
       "                        The destination file path to store the loaded data. If\n",
       "                        not provided, the result will be directly returned to\n",
       "                        the IPython kernel.\n",
       "\u001b[0;31mFile:\u001b[0m      /opt/conda/lib/python3.7/site-packages/wstl/magics/wstl.py\n"
      ]
     },
     "metadata": {},
     "output_type": "display_data"
    }
   ],
   "source": [
    "%load_hl7v2_datastore?"
   ]
  },
  {
   "cell_type": "code",
   "execution_count": null,
   "metadata": {},
   "outputs": [],
   "source": [
    "# uncomment, replace all the labels in square brackets, and execute the following cell magic command\n",
    "# hl7v2_store_messages = %load_hl7v2_datastore --project_id [PROJECT_ID] --region [REGION] --dataset_id [DATASET] --hl7v2_store_id [STORE_ID]"
   ]
  },
  {
   "cell_type": "code",
   "execution_count": null,
   "metadata": {},
   "outputs": [],
   "source": [
    "import json\n",
    "parsed_messages = [json.loads(x['schematizedData']['data']) for x in hl7v2_store_messages.data]\n",
    "\n",
    "from IPython.display import JSON\n",
    "parsed_message = parsed_messages[0]\n",
    "JSON(parsed_message)"
   ]
  },
  {
   "cell_type": "code",
   "execution_count": 22,
   "metadata": {},
   "outputs": [
    {
     "data": {
      "text/markdown": [
       "\n",
       "### Reads from python variable previous defined in cell\n"
      ],
      "text/plain": [
       "<IPython.core.display.Markdown object>"
      ]
     },
     "metadata": {},
     "output_type": "display_data"
    }
   ],
   "source": [
    "%%markdown\n",
    "\n",
    "### Reads from python variable previous defined in cell"
   ]
  },
  {
   "cell_type": "code",
   "execution_count": null,
   "metadata": {},
   "outputs": [],
   "source": [
    "%%wstl --output resources --input py://parsed_message --library_config file://~/mapping_configs/hl7v2_fhir_stu3/projector_library/*.wstl\n",
    "\n",
    "$this : Process_ORU_R01($root.ORU_R01);\n",
    "    \n",
    "// Description: Define HL7v2 (version 2.9) to FHIR STU3 transformation\n",
    "//\n",
    "// Argument(s):\n",
    "//   ORU_R01 HL7v2 Message Type (version 2.9)\n",
    "//   ORU_R01 Segments covered in this mapping configuration are: MSH\n",
    "//\n",
    "// Output(s):\n",
    "//   FHIR STU3 Resources : http://www.hl7.org/fhir/stu3/resourcelist.html\n",
    "// List of Generated FHIR Resources:\n",
    "//   Bundle: https://www.hl7.org/fhir/stu3/bundle.html\n",
    "\n",
    "def Process_ORU_R01(ORU_R01) {\n",
    "  var MH : MSH_MessageHeader(ORU_R01.MSH);\n",
    "  out Resources : MH;\n",
    "  out Resources : HD_Provenance(ORU_R01.MSH.3, MH);\n",
    "  out Resources : MSH_Bundle(ORU_R01.MSH.10);\n",
    "}"
   ]
  }
 ],
 "metadata": {
  "kernelspec": {
   "display_name": "Python 3",
   "language": "python",
   "name": "python3"
  },
  "language_info": {
   "codemirror_mode": {
    "name": "ipython",
    "version": 3
   },
   "file_extension": ".py",
   "mimetype": "text/x-python",
   "name": "python",
   "nbconvert_exporter": "python",
   "pygments_lexer": "ipython3",
   "version": "3.7.3"
  }
 },
 "nbformat": 4,
 "nbformat_minor": 4
}
